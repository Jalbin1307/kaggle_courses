{
 "cells": [
  {
   "cell_type": "markdown",
   "id": "9df56b60",
   "metadata": {},
   "source": [
    "Decision tree는 어려운 결정을 내리게 한다. tree가 깊으면 overfit이 일어날 확률이 크고 tree가 얕으면 raw data에서 많은 차이를 포착하지 못해 성능이 좋지 않다. <br><br>\n",
    "오늘날 가장 정교한 모델링 기법도 underfitting과 overfitting 사이에서 이러한 tension을 직면한다. 하지만 많은 모델들이 더 나은 성능을 이끌어 낼 수 있는 영리한 아이디어를 가지고있다. <b>random forest</b>를 예로 들어볼 수 있다. <br><br>\n",
    "random forest는 여러 트리를 사용하고 각각의 tree의 예측의 평균을 구한다. 이것은 보통 single decision tree보다 성능이 좋다."
   ]
  },
  {
   "cell_type": "code",
   "execution_count": 1,
   "id": "4abb113e",
   "metadata": {},
   "outputs": [],
   "source": [
    "import pandas as pd\n",
    "\n",
    "melbourne_file_path = '../input/melbourne-housing-snapshot/melb_data.csv'\n",
    "melbourne_data = pd.read_csv(melbourne_file_path)\n",
    "\n",
    "melbourne_data = melbourne_data.dropna(axis=0)\n",
    "\n",
    "y = melbourne_data.Price\n",
    "melbourne_features = ['Rooms', 'Bathroom', 'Landsize', 'BuildingArea',\n",
    "                     'YearBuilt', 'Lattitude', 'Longtitude']\n",
    "X = melbourne_data[melbourne_features]\n",
    "\n",
    "from sklearn.model_selection import train_test_split\n",
    "\n",
    "train_X, val_X, train_y, val_y = train_test_split(X, y, random_state = 0)"
   ]
  },
  {
   "cell_type": "code",
   "execution_count": 3,
   "id": "4d98abf5",
   "metadata": {},
   "outputs": [
    {
     "name": "stdout",
     "output_type": "stream",
     "text": [
      "191669.7536453626\n"
     ]
    }
   ],
   "source": [
    "from sklearn.ensemble import RandomForestRegressor\n",
    "from sklearn.metrics import mean_absolute_error\n",
    "\n",
    "forest_model = RandomForestRegressor(random_state=1)\n",
    "forest_model.fit(train_X, train_y)\n",
    "melb_preds = forest_model.predict(val_X)\n",
    "print(mean_absolute_error(val_y, melb_preds))"
   ]
  },
  {
   "cell_type": "code",
   "execution_count": null,
   "id": "535f5fd1",
   "metadata": {},
   "outputs": [],
   "source": []
  }
 ],
 "metadata": {
  "kernelspec": {
   "display_name": "Python 3",
   "language": "python",
   "name": "python3"
  },
  "language_info": {
   "codemirror_mode": {
    "name": "ipython",
    "version": 3
   },
   "file_extension": ".py",
   "mimetype": "text/x-python",
   "name": "python",
   "nbconvert_exporter": "python",
   "pygments_lexer": "ipython3",
   "version": "3.7.10"
  }
 },
 "nbformat": 4,
 "nbformat_minor": 5
}
