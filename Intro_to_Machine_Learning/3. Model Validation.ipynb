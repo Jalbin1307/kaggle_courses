{
 "cells": [
  {
   "cell_type": "code",
   "execution_count": 1,
   "id": "76657c46",
   "metadata": {},
   "outputs": [
    {
     "data": {
      "text/plain": [
       "DecisionTreeRegressor()"
      ]
     },
     "execution_count": 1,
     "metadata": {},
     "output_type": "execute_result"
    }
   ],
   "source": [
    "import pandas as pd\n",
    "\n",
    "# Load data\n",
    "melbourne_file_path = '../input/melbourne-housing-snapshot/melb_data.csv'\n",
    "melbourne_data = pd.read_csv(melbourne_file_path) \n",
    "\n",
    "# Filter rows with missing price values\n",
    "filtered_melbourne_data = melbourne_data.dropna(axis=0)\n",
    "\n",
    "# Choose target and features\n",
    "y = filtered_melbourne_data.Price\n",
    "melbourne_features = ['Rooms', 'Bathroom', 'Landsize', 'BuildingArea', \n",
    "                        'YearBuilt', 'Lattitude', 'Longtitude']\n",
    "X = filtered_melbourne_data[melbourne_features]\n",
    "\n",
    "from sklearn.tree import DecisionTreeRegressor\n",
    "\n",
    "# Define model\n",
    "melbourne_model = DecisionTreeRegressor()\n",
    "\n",
    "# Fit model\n",
    "melbourne_model.fit(X, y)"
   ]
  },
  {
   "cell_type": "code",
   "execution_count": 2,
   "id": "a332b339",
   "metadata": {},
   "outputs": [
    {
     "data": {
      "text/plain": [
       "434.71594577146544"
      ]
     },
     "execution_count": 2,
     "metadata": {},
     "output_type": "execute_result"
    }
   ],
   "source": [
    "from sklearn.metrics import mean_absolute_error\n",
    "\n",
    "predicted_home_prices = melbourne_model.predict(X)\n",
    "mean_absolute_error(y, predicted_home_prices)"
   ]
  },
  {
   "cell_type": "markdown",
   "id": "f8ab7255",
   "metadata": {},
   "source": [
    "training data를 가지고 모델을 학습을 시키고 그것으로 평가를 하는 것은 좋지 못하다.\n",
    "이렇게 학습을 시킬 경우 다른 데이터셋에 대해서는 제대로 된 값을 얻기 힘들다. 그렇기 때문에 일부는 학습 데이터 일부는 검증 데이터로 나눠 모델을 학습 하고 평가 하는 것이 좋다."
   ]
  },
  {
   "cell_type": "code",
   "execution_count": 4,
   "id": "bdf37e1e",
   "metadata": {},
   "outputs": [
    {
     "name": "stdout",
     "output_type": "stream",
     "text": [
      "261860.42801807617\n"
     ]
    }
   ],
   "source": [
    "from sklearn.model_selection import train_test_split\n",
    "\n",
    "train_X, val_X, train_y, val_y = train_test_split(X, y, random_state=0)\n",
    "\n",
    "melbourne_model = DecisionTreeRegressor()\n",
    "\n",
    "melbourne_model.fit(train_X, train_y)\n",
    "\n",
    "val_predictions = melbourne_model.predict(val_X)\n",
    "print(mean_absolute_error(val_y, val_predictions))"
   ]
  },
  {
   "cell_type": "markdown",
   "id": "cf924d4c",
   "metadata": {},
   "source": [
    "다음과 같은 오차를 봤을 때 in-sample 데이터 에서는500달러 밖에 차이가 안났지만 out-of -sample 에서는 250,000 달러 이상이 차이난다. <br>\n",
    "<br>\n",
    "이 정도의 차이는 실제로 사용할 수 없는 결과다. <br><br>\n",
    "더 나은 feature 또는 모델 유형을 찾기 위한 실험 등 이 모델을 개선할 수 있는 여러 가지 방법이 있다."
   ]
  },
  {
   "cell_type": "code",
   "execution_count": null,
   "id": "6570d029",
   "metadata": {},
   "outputs": [],
   "source": []
  }
 ],
 "metadata": {
  "kernelspec": {
   "display_name": "Python 3",
   "language": "python",
   "name": "python3"
  },
  "language_info": {
   "codemirror_mode": {
    "name": "ipython",
    "version": 3
   },
   "file_extension": ".py",
   "mimetype": "text/x-python",
   "name": "python",
   "nbconvert_exporter": "python",
   "pygments_lexer": "ipython3",
   "version": "3.7.10"
  }
 },
 "nbformat": 4,
 "nbformat_minor": 5
}
